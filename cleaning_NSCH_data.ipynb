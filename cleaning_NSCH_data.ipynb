{
 "cells": [
  {
   "cell_type": "code",
   "execution_count": 93,
   "metadata": {},
   "outputs": [
    {
     "ename": "ModuleNotFoundError",
     "evalue": "No module named 'missingno'",
     "output_type": "error",
     "traceback": [
      "\u001b[1;31m---------------------------------------------------------------------------\u001b[0m",
      "\u001b[1;31mModuleNotFoundError\u001b[0m                       Traceback (most recent call last)",
      "Cell \u001b[1;32mIn[93], line 5\u001b[0m\n\u001b[0;32m      3\u001b[0m \u001b[38;5;28;01mimport\u001b[39;00m \u001b[38;5;21;01mnumpy\u001b[39;00m \u001b[38;5;28;01mas\u001b[39;00m \u001b[38;5;21;01mnp\u001b[39;00m\n\u001b[0;32m      4\u001b[0m \u001b[38;5;28;01mimport\u001b[39;00m \u001b[38;5;21;01mseaborn\u001b[39;00m \u001b[38;5;28;01mas\u001b[39;00m \u001b[38;5;21;01msns\u001b[39;00m\n\u001b[1;32m----> 5\u001b[0m \u001b[38;5;28;01mimport\u001b[39;00m \u001b[38;5;21;01mmissingno\u001b[39;00m\n",
      "\u001b[1;31mModuleNotFoundError\u001b[0m: No module named 'missingno'"
     ]
    }
   ],
   "source": [
    "import pandas as pd\n",
    "import matplotlib.pyplot as plt\n",
    "import numpy as np\n",
    "import seaborn as sns\n",
    "import missingno\n"
   ]
  },
  {
   "cell_type": "code",
   "execution_count": 16,
   "metadata": {},
   "outputs": [],
   "source": [
    "NSCH19 = pd.read_sas(\"data/nsch_2019e_topical.sas7bdat\")\n",
    "#NSCH22 = pd.read_sas(\"data/nsch_2022e_topical.sas7bdat\")"
   ]
  },
  {
   "cell_type": "code",
   "execution_count": 18,
   "metadata": {},
   "outputs": [
    {
     "name": "stdout",
     "output_type": "stream",
     "text": [
      "<class 'pandas.core.frame.DataFrame'>\n",
      "RangeIndex: 29433 entries, 0 to 29432\n",
      "Columns: 448 entries, FIPSST to HOUSE_GEN\n",
      "dtypes: float64(444), object(4)\n",
      "memory usage: 100.6+ MB\n"
     ]
    }
   ],
   "source": [
    "NSCH19.info()"
   ]
  },
  {
   "cell_type": "code",
   "execution_count": 23,
   "metadata": {},
   "outputs": [],
   "source": [
    "geo_features = ['FIPSST']\n",
    "## K7Q02R_R is number of days missed in school because of illness or injury.\n",
    "## Responses are binned in intervals of 3 days, with 1 meaning no missed days, 5 meaning 11+ days, 6 meaning no enrolled\n",
    "## in school\n",
    "edu_features = ['K7Q02R_R']\n",
    "med_features = ['AVAILABLE', 'APPOINTMENT', 'ISSUECOST', \n",
    "                'NOTELIG', 'NOTOPEN', 'TRANSPORTCC',\n",
    "                'CURRCOV', \n",
    "                'HOWMUCH', #how much was paid for health care\n",
    "                'INSTYPE', #public/ priv/ none\n",
    "                'K3Q04_R', #any type of health ins\n",
    "                'K12Q12', #govt assistance plan (yes/ no)\n",
    "                'K3Q21B', 'K3Q20', 'K3Q25', #cost reasonable, needs covered, allowed to see providers\n",
    "                'K4Q01', #is there place can take child when they are sick\n",
    "                'K4Q24_R', 'K4Q26', #how difficult to get specialist care\n",
    "                'K4Q27', #Was there any time when child needed health care but did not receive?\n",
    "                'S4Q01', #did this child see a doctor\n",
    "                'K5Q31_R', 'K5Q32' #satisfactory communication from doctor to school\n",
    "                ]           \n",
    "\n",
    "features = geo_features + edu_features + med_features"
   ]
  },
  {
   "cell_type": "code",
   "execution_count": 87,
   "metadata": {},
   "outputs": [],
   "source": [
    "def FIPS_to_State(data, state='both'):\n",
    "    #This function specifically includes a column corresponding\n",
    "    #to either the state abbreviation if state='abbr' or\n",
    "    #the full state name if state='full' or both='both'.  Note that this is specifically written\n",
    "    #for NSCH data which names their FIPS column FIPSST.  This also requires the\n",
    "    #FIPS_State.csv file which translates between FIPS and State.  \n",
    "\n",
    "    #Also note: this function changes the FIP code to an integer from a byte string.\n",
    "    #I c\n",
    "\n",
    "    FIPS_state = pd.read_csv('data/FIPS_State.csv')\n",
    "    FIPS_state['FIPSST'] = FIPS_state.FIPS\n",
    "\n",
    "    data.FIPSST = data.FIPSST.apply(int)\n",
    "\n",
    "    if state == 'abbr':\n",
    "        data = data.merge(FIPS_state[['FIPSST', 'Abbreviation']], on='FIPSST')\n",
    "\n",
    "    if state == 'full':\n",
    "        data = data.merge(FIPS_state[['FIPSST', 'Name']], on='FIPSST') \n",
    "\n",
    "    if state == 'both':\n",
    "        data = data.merge(FIPS_state[['FIPSST', 'Name', 'Abbreviation']], on='FIPSST')                \n",
    "\n",
    "    return data\n"
   ]
  }
 ],
 "metadata": {
  "kernelspec": {
   "display_name": "erdos_may_2024",
   "language": "python",
   "name": "python3"
  },
  "language_info": {
   "codemirror_mode": {
    "name": "ipython",
    "version": 3
   },
   "file_extension": ".py",
   "mimetype": "text/x-python",
   "name": "python",
   "nbconvert_exporter": "python",
   "pygments_lexer": "ipython3",
   "version": "3.9.15"
  }
 },
 "nbformat": 4,
 "nbformat_minor": 2
}
