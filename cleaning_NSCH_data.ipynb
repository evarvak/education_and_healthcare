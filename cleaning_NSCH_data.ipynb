{
 "cells": [
  {
   "cell_type": "code",
   "execution_count": null,
   "metadata": {},
   "outputs": [],
   "source": [
    "import pandas as pd\n",
    "import matplotlib.pyplot as plt\n",
    "import numpy as np\n",
    "import seaborn as sns\n",
    "import missingno as mgno\n"
   ]
  },
  {
   "cell_type": "code",
   "execution_count": 57,
   "metadata": {},
   "outputs": [],
   "source": [
    "NSCH19 = pd.read_sas(\"data/nsch_2019e_topical.sas7bdat\")\n",
    "#NSCH22 = pd.read_sas(\"data/nsch_2022e_topical.sas7bdat\")"
   ]
  },
  {
   "cell_type": "code",
   "execution_count": null,
   "metadata": {},
   "outputs": [],
   "source": [
    "NSCH19.info()"
   ]
  },
  {
   "cell_type": "code",
   "execution_count": 64,
   "metadata": {},
   "outputs": [],
   "source": [
    "geo_features = ['FIPSST']\n",
    "## K7Q02R_R is number of days missed in school because of illness or injury.\n",
    "## Responses are binned in intervals of 3 days, with 1 meaning no missed days, 5 meaning 11+ days, 6 meaning no enrolled\n",
    "## in school\n",
    "edu_features = ['K7Q02R_R']\n",
    "med_features = ['K4Q27', #Was there any time when child needed health care but did not receive?\n",
    "                #Note that if K4Q27 = 2 (No), then AVAILABLE to TRANSPORTCC are null\n",
    "\n",
    "                'AVAILABLE', 'APPOINTMENT', 'ISSUECOST', \n",
    "                'NOTELIG', 'NOTOPEN', 'TRANSPORTCC',\n",
    "                'CURRCOV', \n",
    "                'HOWMUCH', #how much was paid for health care\n",
    "                'INSTYPE', #public/ priv/ none\n",
    "                'K3Q04_R', #any type of health ins\n",
    "                'K12Q12', #govt assistance plan (yes/ no)\n",
    "                # Note that if CURRCOV = 2 (No), then K12Q12 is null\n",
    "\n",
    "                'K3Q21B', #How often are cost reasonable?  If HOWMUCH=1, then K3Q21B is null\n",
    "                'K3Q20', #How often does health insurance cover needs? If CURRCOV=2, then K3Q20 is null\n",
    "                'K3Q22', #How often allowed to see providers?  If CURRCOV=2, then K3Q22 is null\n",
    "                'K3Q25', #Problems Paying for Medical or Health Care\n",
    "                'K4Q01', #is there place can take child when they are sick\n",
    "                'K4Q24_R', #Did this child see a specialist?\n",
    "                'K4Q26', #How difficult to get specialist care?  If K4Q24_R=3, then K4Q26 is null.\n",
    "                \n",
    "                'S4Q01', #Did this child visit a doctor?\n",
    "                'K5Q31_R', #Provider Communication with School.  If S4Q01=2, then K5Q31_R is null.\n",
    "                'K5Q32' #Satisfactory communication from doctor to school.  If S4Q01=2 or K5Q31_R=2 or 3, then K5Q32 is null.\n",
    "                ]           \n",
    "\n",
    "features = geo_features + edu_features + med_features"
   ]
  },
  {
   "cell_type": "code",
   "execution_count": null,
   "metadata": {},
   "outputs": [],
   "source": [
    "def FIPS_to_State(data, state='both'):\n",
    "    '''\n",
    "    This function includes a column corresponding the state name and/ or abbreviation corresponding\n",
    "    to the FIPS code\n",
    "\n",
    "    Arguments:\n",
    "    data = NSCH dataframe (in general, any dataframe with column 'FIPSST')\n",
    "    state = 'abbr' for abbreviation only, 'full' for full state name, defaults to 'both'\n",
    "\n",
    "    Returns: \n",
    "    dataframe with appended column(s) and FIPPST column changed to int type\n",
    "    '''\n",
    "    FIPS_state = pd.read_csv('data/FIPS_State.csv')\n",
    "    FIPS_state['FIPSST'] = FIPS_state.FIPS\n",
    "\n",
    "    data.FIPSST = data.FIPSST.apply(int)\n",
    "\n",
    "    if state == 'abbr':\n",
    "        data = data.merge(FIPS_state[['FIPSST', 'ABBR']], on='FIPSST')\n",
    "\n",
    "    if state == 'full':\n",
    "        data = data.merge(FIPS_state[['FIPSST', 'STATE']], on='FIPSST') \n",
    "\n",
    "    if state == 'both':\n",
    "        data = data.merge(FIPS_state[['FIPSST', 'STATE', 'ABBR']], on='FIPSST')                \n",
    "\n",
    "    return data\n"
   ]
  },
  {
   "cell_type": "code",
   "execution_count": null,
   "metadata": {},
   "outputs": [],
   "source": [
    "## This calculates the null correlation between features\n",
    "mgno.heatmap(NSCH19[features])"
   ]
  },
  {
   "cell_type": "code",
   "execution_count": null,
   "metadata": {},
   "outputs": [],
   "source": [
    "NSCH19 = FIPS_to_State(NSCH19)"
   ]
  },
  {
   "cell_type": "code",
   "execution_count": null,
   "metadata": {},
   "outputs": [],
   "source": [
    "## This will list the percent of data which is missing by state\n",
    "## I borrowed the code from https://stackoverflow.com/questions/46106954/using-isnull-and-groupby-on-a-pandas-dataframe\n",
    "\n",
    "NSCH19_nullByState = NSCH19[features].isnull().groupby(NSCH19['ABBR']).mean()\n",
    "NSCH19_nullByState.sort_values(by=\"K7Q02R_R\", ascending=False)\n"
   ]
  },
  {
   "cell_type": "code",
   "execution_count": 67,
   "metadata": {},
   "outputs": [],
   "source": [
    "def clean_NSCH(df, features, response = 'K7Q02R_R', \n",
    "               dropna_response = True, \n",
    "               cond_nans = True,\n",
    "               rep_cond_nans = 'NA'):\n",
    "    '''\n",
    "    This function cleans up a dataframe in a similar style/ format of the NSCH data.  The reason for\n",
    "    making a function is so that we can apply this generally to different years and to account for\n",
    "    the train/ test split (e.g. imputation should be done on the training set to prevent data leakage).\n",
    "\n",
    "    Arguments:\n",
    "    df = NSCH dataframe\n",
    "    features = list, a list of features we want to keep (including response variable)\n",
    "    response = str, the response variable\n",
    "    dropna_response = bool, drop nan from the response variable\n",
    "    cond_nans = replaces conditional nans (i.e. those that depend on other feature values) \n",
    "                with rep_cond_nans value\n",
    "\n",
    "                \n",
    "    '''\n",
    "    df = df[features]\n",
    "    \n",
    "    # Note: response nans should be dropped before data imputation\n",
    "    if dropna_response == True: df = df[df[response].notna()]\n",
    "\n",
    "    if cond_nans == True:\n",
    "        for feat in ['AVAILABLE', 'APPOINTMENT', 'ISSUECOST', \n",
    "                'NOTELIG', 'NOTOPEN', 'TRANSPORTCC']:\n",
    "            df.loc[NSCH19['K4Q27'] == 2, feat] = rep_cond_nans\n",
    "\n",
    "        if 'K12Q12' in features: df.loc[NSCH19['CURRCOV'] == 2, 'K12Q12'] = rep_cond_nans\n",
    "        if 'K3Q21B' in features: df.loc[NSCH19['HOWMUCH'] == 1, 'K3Q21B'] = rep_cond_nans        \n",
    "        if 'K3Q20' in features: df.loc[NSCH19['CURRCOV'] == 2, 'K3Q20'] = rep_cond_nans        \n",
    "        if 'K3Q22' in features: df.loc[NSCH19['CURRCOV'] == 2, 'K3Q22'] = rep_cond_nans  \n",
    "\n",
    "        if 'K4Q26'and 'K4Q24_R' in features: df.loc[NSCH19['K4Q24_R'] == 3, 'K4Q26'] = rep_cond_nans\n",
    "        if 'K5Q31_R'and 'S4Q01' in features: df.loc[NSCH19['S4Q01'] == 2, 'K5Q31_R'] = rep_cond_nans\n",
    "\n",
    "        if 'K5Q32'and 'S4Q01' in features: df.loc[NSCH19['S4Q01'] == 2, 'K5Q32'] = rep_cond_nans\n",
    "        if 'K5Q32'and 'K5Q31_R' in features: df.loc[NSCH19['K5Q31_R'] == 2, 'K5Q32'] = rep_cond_nans\n",
    "        if 'K5Q32'and 'K5Q31_R' in features: df.loc[NSCH19['K5Q31_R'] == 3, 'K5Q32'] = rep_cond_nans \n",
    "\n",
    "\n",
    "    return df"
   ]
  },
  {
   "cell_type": "code",
   "execution_count": 71,
   "metadata": {},
   "outputs": [
    {
     "name": "stderr",
     "output_type": "stream",
     "text": [
      "C:\\Users\\kling\\AppData\\Local\\Temp\\ipykernel_35516\\2989595326.py:28: FutureWarning: Setting an item of incompatible dtype is deprecated and will raise an error in a future version of pandas. Value 'NA' has dtype incompatible with float64, please explicitly cast to a compatible dtype first.\n",
      "  df.loc[NSCH19['K4Q27'] == 2, feat] = rep_cond_nans\n",
      "C:\\Users\\kling\\AppData\\Local\\Temp\\ipykernel_35516\\2989595326.py:28: FutureWarning: Setting an item of incompatible dtype is deprecated and will raise an error in a future version of pandas. Value 'NA' has dtype incompatible with float64, please explicitly cast to a compatible dtype first.\n",
      "  df.loc[NSCH19['K4Q27'] == 2, feat] = rep_cond_nans\n",
      "C:\\Users\\kling\\AppData\\Local\\Temp\\ipykernel_35516\\2989595326.py:28: FutureWarning: Setting an item of incompatible dtype is deprecated and will raise an error in a future version of pandas. Value 'NA' has dtype incompatible with float64, please explicitly cast to a compatible dtype first.\n",
      "  df.loc[NSCH19['K4Q27'] == 2, feat] = rep_cond_nans\n",
      "C:\\Users\\kling\\AppData\\Local\\Temp\\ipykernel_35516\\2989595326.py:28: FutureWarning: Setting an item of incompatible dtype is deprecated and will raise an error in a future version of pandas. Value 'NA' has dtype incompatible with float64, please explicitly cast to a compatible dtype first.\n",
      "  df.loc[NSCH19['K4Q27'] == 2, feat] = rep_cond_nans\n",
      "C:\\Users\\kling\\AppData\\Local\\Temp\\ipykernel_35516\\2989595326.py:28: FutureWarning: Setting an item of incompatible dtype is deprecated and will raise an error in a future version of pandas. Value 'NA' has dtype incompatible with float64, please explicitly cast to a compatible dtype first.\n",
      "  df.loc[NSCH19['K4Q27'] == 2, feat] = rep_cond_nans\n",
      "C:\\Users\\kling\\AppData\\Local\\Temp\\ipykernel_35516\\2989595326.py:28: FutureWarning: Setting an item of incompatible dtype is deprecated and will raise an error in a future version of pandas. Value 'NA' has dtype incompatible with float64, please explicitly cast to a compatible dtype first.\n",
      "  df.loc[NSCH19['K4Q27'] == 2, feat] = rep_cond_nans\n",
      "C:\\Users\\kling\\AppData\\Local\\Temp\\ipykernel_35516\\2989595326.py:30: FutureWarning: Setting an item of incompatible dtype is deprecated and will raise an error in a future version of pandas. Value 'NA' has dtype incompatible with float64, please explicitly cast to a compatible dtype first.\n",
      "  if 'K12Q12' in features: df.loc[NSCH19['CURRCOV'] == 2, 'K12Q12'] = rep_cond_nans\n",
      "C:\\Users\\kling\\AppData\\Local\\Temp\\ipykernel_35516\\2989595326.py:31: FutureWarning: Setting an item of incompatible dtype is deprecated and will raise an error in a future version of pandas. Value 'NA' has dtype incompatible with float64, please explicitly cast to a compatible dtype first.\n",
      "  if 'K3Q21B' in features: df.loc[NSCH19['HOWMUCH'] == 1, 'K3Q21B'] = rep_cond_nans\n",
      "C:\\Users\\kling\\AppData\\Local\\Temp\\ipykernel_35516\\2989595326.py:32: FutureWarning: Setting an item of incompatible dtype is deprecated and will raise an error in a future version of pandas. Value 'NA' has dtype incompatible with float64, please explicitly cast to a compatible dtype first.\n",
      "  if 'K3Q20' in features: df.loc[NSCH19['CURRCOV'] == 2, 'K3Q20'] = rep_cond_nans\n",
      "C:\\Users\\kling\\AppData\\Local\\Temp\\ipykernel_35516\\2989595326.py:33: FutureWarning: Setting an item of incompatible dtype is deprecated and will raise an error in a future version of pandas. Value 'NA' has dtype incompatible with float64, please explicitly cast to a compatible dtype first.\n",
      "  if 'K3Q22' in features: df.loc[NSCH19['CURRCOV'] == 2, 'K3Q22'] = rep_cond_nans\n",
      "C:\\Users\\kling\\AppData\\Local\\Temp\\ipykernel_35516\\2989595326.py:35: FutureWarning: Setting an item of incompatible dtype is deprecated and will raise an error in a future version of pandas. Value 'NA' has dtype incompatible with float64, please explicitly cast to a compatible dtype first.\n",
      "  if 'K4Q26'and 'K4Q24_R' in features: df.loc[NSCH19['K4Q24_R'] == 3, 'K4Q26'] = rep_cond_nans\n",
      "C:\\Users\\kling\\AppData\\Local\\Temp\\ipykernel_35516\\2989595326.py:36: FutureWarning: Setting an item of incompatible dtype is deprecated and will raise an error in a future version of pandas. Value 'NA' has dtype incompatible with float64, please explicitly cast to a compatible dtype first.\n",
      "  if 'K5Q31_R'and 'S4Q01' in features: df.loc[NSCH19['S4Q01'] == 2, 'K5Q31_R'] = rep_cond_nans\n",
      "C:\\Users\\kling\\AppData\\Local\\Temp\\ipykernel_35516\\2989595326.py:38: FutureWarning: Setting an item of incompatible dtype is deprecated and will raise an error in a future version of pandas. Value 'NA' has dtype incompatible with float64, please explicitly cast to a compatible dtype first.\n",
      "  if 'K5Q32'and 'S4Q01' in features: df.loc[NSCH19['S4Q01'] == 2, 'K5Q32'] = rep_cond_nans\n"
     ]
    }
   ],
   "source": [
    "clean_NSCH19 = clean_NSCH(NSCH19, features)"
   ]
  },
  {
   "cell_type": "code",
   "execution_count": 77,
   "metadata": {},
   "outputs": [
    {
     "data": {
      "text/plain": [
       "1        2.0\n",
       "3        2.0\n",
       "5        2.0\n",
       "6        2.0\n",
       "8        2.0\n",
       "        ... \n",
       "29425    NaN\n",
       "29427    2.0\n",
       "29430    2.0\n",
       "29431    2.0\n",
       "29432    2.0\n",
       "Name: K3Q25, Length: 21021, dtype: float64"
      ]
     },
     "execution_count": 77,
     "metadata": {},
     "output_type": "execute_result"
    }
   ],
   "source": [
    "clean_NSCH19.K3Q25"
   ]
  }
 ],
 "metadata": {
  "kernelspec": {
   "display_name": "erdos_may_2024",
   "language": "python",
   "name": "python3"
  },
  "language_info": {
   "codemirror_mode": {
    "name": "ipython",
    "version": 3
   },
   "file_extension": ".py",
   "mimetype": "text/x-python",
   "name": "python",
   "nbconvert_exporter": "python",
   "pygments_lexer": "ipython3",
   "version": "3.9.15"
  }
 },
 "nbformat": 4,
 "nbformat_minor": 2
}
