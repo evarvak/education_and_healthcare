{
 "cells": [
  {
   "cell_type": "code",
   "execution_count": 1,
   "id": "1fa6c2fe",
   "metadata": {},
   "outputs": [],
   "source": [
    "import numpy as np\n",
    "import pandas as pd\n",
    "import matplotlib.pyplot as plt\n",
    "import seaborn as sns"
   ]
  },
  {
   "cell_type": "markdown",
   "id": "03cd79e9",
   "metadata": {},
   "source": [
    "This data comes from https://www.governing.com/archive/state-education-spending-per-pupil-data.html. It is the government census data for education spending in fiscal year 2016 (Oct 2015 - Sep 2016)"
   ]
  },
  {
   "cell_type": "code",
   "execution_count": 2,
   "id": "a395ba98",
   "metadata": {},
   "outputs": [
    {
     "data": {
      "text/html": [
       "<div>\n",
       "<style scoped>\n",
       "    .dataframe tbody tr th:only-of-type {\n",
       "        vertical-align: middle;\n",
       "    }\n",
       "\n",
       "    .dataframe tbody tr th {\n",
       "        vertical-align: top;\n",
       "    }\n",
       "\n",
       "    .dataframe thead th {\n",
       "        text-align: right;\n",
       "    }\n",
       "</style>\n",
       "<table border=\"1\" class=\"dataframe\">\n",
       "  <thead>\n",
       "    <tr style=\"text-align: right;\">\n",
       "      <th></th>\n",
       "      <th>State</th>\n",
       "      <th>Total Per Pupil Spending</th>\n",
       "      <th>Total Spending (in Ks)</th>\n",
       "      <th>Instruction Spending Per Pupil</th>\n",
       "      <th>Instruction Spending (in Ks)</th>\n",
       "      <th>Support Services Per Pupil</th>\n",
       "      <th>Support Services (in Ks)</th>\n",
       "    </tr>\n",
       "  </thead>\n",
       "  <tbody>\n",
       "    <tr>\n",
       "      <th>0</th>\n",
       "      <td>Alabama</td>\n",
       "      <td>$9,236</td>\n",
       "      <td>$6,907,539</td>\n",
       "      <td>$5,257</td>\n",
       "      <td>$3,865,453</td>\n",
       "      <td>$3,321</td>\n",
       "      <td>$2,439,634</td>\n",
       "    </tr>\n",
       "    <tr>\n",
       "      <th>1</th>\n",
       "      <td>Alaska</td>\n",
       "      <td>$17,510</td>\n",
       "      <td>$2,327,151</td>\n",
       "      <td>$9,449</td>\n",
       "      <td>$1,251,738</td>\n",
       "      <td>$7,427</td>\n",
       "      <td>$983,877</td>\n",
       "    </tr>\n",
       "    <tr>\n",
       "      <th>2</th>\n",
       "      <td>Arizona</td>\n",
       "      <td>$7,613</td>\n",
       "      <td>$7,276,067</td>\n",
       "      <td>$4,077</td>\n",
       "      <td>$3,872,250</td>\n",
       "      <td>$3,105</td>\n",
       "      <td>$2,913,176</td>\n",
       "    </tr>\n",
       "    <tr>\n",
       "      <th>3</th>\n",
       "      <td>Arkansas</td>\n",
       "      <td>$9,846</td>\n",
       "      <td>$4,750,938</td>\n",
       "      <td>$5,539</td>\n",
       "      <td>$2,658,253</td>\n",
       "      <td>$3,762</td>\n",
       "      <td>$1,802,769</td>\n",
       "    </tr>\n",
       "    <tr>\n",
       "      <th>4</th>\n",
       "      <td>California</td>\n",
       "      <td>$11,495</td>\n",
       "      <td>$72,641,244</td>\n",
       "      <td>$6,849</td>\n",
       "      <td>$42,587,272</td>\n",
       "      <td>$4,191</td>\n",
       "      <td>$26,058,021</td>\n",
       "    </tr>\n",
       "  </tbody>\n",
       "</table>\n",
       "</div>"
      ],
      "text/plain": [
       "        State Total Per Pupil Spending Total Spending (in Ks)  \\\n",
       "0     Alabama                   $9,236             $6,907,539   \n",
       "1      Alaska                  $17,510             $2,327,151   \n",
       "2     Arizona                   $7,613             $7,276,067   \n",
       "3    Arkansas                   $9,846             $4,750,938   \n",
       "4  California                  $11,495            $72,641,244   \n",
       "\n",
       "  Instruction Spending Per Pupil Instruction Spending (in Ks)  \\\n",
       "0                         $5,257                   $3,865,453   \n",
       "1                         $9,449                   $1,251,738   \n",
       "2                         $4,077                   $3,872,250   \n",
       "3                         $5,539                   $2,658,253   \n",
       "4                         $6,849                  $42,587,272   \n",
       "\n",
       "  Support Services Per Pupil Support Services (in Ks)  \n",
       "0                     $3,321               $2,439,634  \n",
       "1                     $7,427                 $983,877  \n",
       "2                     $3,105               $2,913,176  \n",
       "3                     $3,762               $1,802,769  \n",
       "4                     $4,191              $26,058,021  "
      ]
     },
     "execution_count": 2,
     "metadata": {},
     "output_type": "execute_result"
    }
   ],
   "source": [
    "states = pd.read_csv('./data/state_spending_per_student.csv')\n",
    "states.head()"
   ]
  },
  {
   "cell_type": "code",
   "execution_count": 3,
   "id": "6f974c46",
   "metadata": {
    "scrolled": true
   },
   "outputs": [],
   "source": [
    "def dollar_to_float(dollar: str) -> float:\n",
    "    return float(dollar.replace(',', '')[1:])"
   ]
  },
  {
   "cell_type": "code",
   "execution_count": 4,
   "id": "ab7658a1",
   "metadata": {},
   "outputs": [],
   "source": [
    "states['Total Per Pupil Spending'] = states['Total Per Pupil Spending'].apply(dollar_to_float)"
   ]
  },
  {
   "cell_type": "code",
   "execution_count": 5,
   "id": "2ec1faa0",
   "metadata": {
    "scrolled": true
   },
   "outputs": [
    {
     "data": {
      "text/html": [
       "<div>\n",
       "<style scoped>\n",
       "    .dataframe tbody tr th:only-of-type {\n",
       "        vertical-align: middle;\n",
       "    }\n",
       "\n",
       "    .dataframe tbody tr th {\n",
       "        vertical-align: top;\n",
       "    }\n",
       "\n",
       "    .dataframe thead th {\n",
       "        text-align: right;\n",
       "    }\n",
       "</style>\n",
       "<table border=\"1\" class=\"dataframe\">\n",
       "  <thead>\n",
       "    <tr style=\"text-align: right;\">\n",
       "      <th></th>\n",
       "      <th>State</th>\n",
       "      <th>Total Per Pupil Spending</th>\n",
       "    </tr>\n",
       "  </thead>\n",
       "  <tbody>\n",
       "    <tr>\n",
       "      <th>32</th>\n",
       "      <td>New York</td>\n",
       "      <td>22366.0</td>\n",
       "    </tr>\n",
       "    <tr>\n",
       "      <th>8</th>\n",
       "      <td>District of Columbia</td>\n",
       "      <td>19159.0</td>\n",
       "    </tr>\n",
       "    <tr>\n",
       "      <th>6</th>\n",
       "      <td>Connecticut</td>\n",
       "      <td>18958.0</td>\n",
       "    </tr>\n",
       "    <tr>\n",
       "      <th>30</th>\n",
       "      <td>New Jersey</td>\n",
       "      <td>18402.0</td>\n",
       "    </tr>\n",
       "    <tr>\n",
       "      <th>45</th>\n",
       "      <td>Vermont</td>\n",
       "      <td>17873.0</td>\n",
       "    </tr>\n",
       "    <tr>\n",
       "      <th>1</th>\n",
       "      <td>Alaska</td>\n",
       "      <td>17510.0</td>\n",
       "    </tr>\n",
       "    <tr>\n",
       "      <th>50</th>\n",
       "      <td>Wyoming</td>\n",
       "      <td>16442.0</td>\n",
       "    </tr>\n",
       "    <tr>\n",
       "      <th>21</th>\n",
       "      <td>Massachusetts</td>\n",
       "      <td>15593.0</td>\n",
       "    </tr>\n",
       "    <tr>\n",
       "      <th>39</th>\n",
       "      <td>Rhode Island</td>\n",
       "      <td>15532.0</td>\n",
       "    </tr>\n",
       "    <tr>\n",
       "      <th>38</th>\n",
       "      <td>Pennsylvania</td>\n",
       "      <td>15418.0</td>\n",
       "    </tr>\n",
       "    <tr>\n",
       "      <th>29</th>\n",
       "      <td>New Hampshire</td>\n",
       "      <td>15340.0</td>\n",
       "    </tr>\n",
       "    <tr>\n",
       "      <th>7</th>\n",
       "      <td>Delaware</td>\n",
       "      <td>14713.0</td>\n",
       "    </tr>\n",
       "    <tr>\n",
       "      <th>20</th>\n",
       "      <td>Maryland</td>\n",
       "      <td>14206.0</td>\n",
       "    </tr>\n",
       "    <tr>\n",
       "      <th>13</th>\n",
       "      <td>Illinois</td>\n",
       "      <td>14180.0</td>\n",
       "    </tr>\n",
       "    <tr>\n",
       "      <th>11</th>\n",
       "      <td>Hawaii</td>\n",
       "      <td>13748.0</td>\n",
       "    </tr>\n",
       "    <tr>\n",
       "      <th>34</th>\n",
       "      <td>North Dakota</td>\n",
       "      <td>13373.0</td>\n",
       "    </tr>\n",
       "    <tr>\n",
       "      <th>19</th>\n",
       "      <td>Maine</td>\n",
       "      <td>13278.0</td>\n",
       "    </tr>\n",
       "    <tr>\n",
       "      <th>23</th>\n",
       "      <td>Minnesota</td>\n",
       "      <td>12382.0</td>\n",
       "    </tr>\n",
       "    <tr>\n",
       "      <th>27</th>\n",
       "      <td>Nebraska</td>\n",
       "      <td>12299.0</td>\n",
       "    </tr>\n",
       "    <tr>\n",
       "      <th>35</th>\n",
       "      <td>Ohio</td>\n",
       "      <td>12102.0</td>\n",
       "    </tr>\n",
       "    <tr>\n",
       "      <th>22</th>\n",
       "      <td>Michigan</td>\n",
       "      <td>11668.0</td>\n",
       "    </tr>\n",
       "    <tr>\n",
       "      <th>47</th>\n",
       "      <td>Washington</td>\n",
       "      <td>11534.0</td>\n",
       "    </tr>\n",
       "    <tr>\n",
       "      <th>4</th>\n",
       "      <td>California</td>\n",
       "      <td>11495.0</td>\n",
       "    </tr>\n",
       "    <tr>\n",
       "      <th>49</th>\n",
       "      <td>Wisconsin</td>\n",
       "      <td>11456.0</td>\n",
       "    </tr>\n",
       "    <tr>\n",
       "      <th>46</th>\n",
       "      <td>Virginia</td>\n",
       "      <td>11432.0</td>\n",
       "    </tr>\n",
       "    <tr>\n",
       "      <th>26</th>\n",
       "      <td>Montana</td>\n",
       "      <td>11348.0</td>\n",
       "    </tr>\n",
       "    <tr>\n",
       "      <th>48</th>\n",
       "      <td>West Virginia</td>\n",
       "      <td>11291.0</td>\n",
       "    </tr>\n",
       "    <tr>\n",
       "      <th>15</th>\n",
       "      <td>Iowa</td>\n",
       "      <td>11150.0</td>\n",
       "    </tr>\n",
       "    <tr>\n",
       "      <th>18</th>\n",
       "      <td>Louisiana</td>\n",
       "      <td>11038.0</td>\n",
       "    </tr>\n",
       "    <tr>\n",
       "      <th>37</th>\n",
       "      <td>Oregon</td>\n",
       "      <td>10842.0</td>\n",
       "    </tr>\n",
       "    <tr>\n",
       "      <th>25</th>\n",
       "      <td>Missouri</td>\n",
       "      <td>10313.0</td>\n",
       "    </tr>\n",
       "    <tr>\n",
       "      <th>40</th>\n",
       "      <td>South Carolina</td>\n",
       "      <td>10249.0</td>\n",
       "    </tr>\n",
       "    <tr>\n",
       "      <th>16</th>\n",
       "      <td>Kansas</td>\n",
       "      <td>9960.0</td>\n",
       "    </tr>\n",
       "    <tr>\n",
       "      <th>17</th>\n",
       "      <td>Kentucky</td>\n",
       "      <td>9863.0</td>\n",
       "    </tr>\n",
       "    <tr>\n",
       "      <th>14</th>\n",
       "      <td>Indiana</td>\n",
       "      <td>9856.0</td>\n",
       "    </tr>\n",
       "    <tr>\n",
       "      <th>3</th>\n",
       "      <td>Arkansas</td>\n",
       "      <td>9846.0</td>\n",
       "    </tr>\n",
       "    <tr>\n",
       "      <th>10</th>\n",
       "      <td>Georgia</td>\n",
       "      <td>9769.0</td>\n",
       "    </tr>\n",
       "    <tr>\n",
       "      <th>31</th>\n",
       "      <td>New Mexico</td>\n",
       "      <td>9693.0</td>\n",
       "    </tr>\n",
       "    <tr>\n",
       "      <th>5</th>\n",
       "      <td>Colorado</td>\n",
       "      <td>9575.0</td>\n",
       "    </tr>\n",
       "    <tr>\n",
       "      <th>0</th>\n",
       "      <td>Alabama</td>\n",
       "      <td>9236.0</td>\n",
       "    </tr>\n",
       "    <tr>\n",
       "      <th>41</th>\n",
       "      <td>South Dakota</td>\n",
       "      <td>9176.0</td>\n",
       "    </tr>\n",
       "    <tr>\n",
       "      <th>43</th>\n",
       "      <td>Texas</td>\n",
       "      <td>9016.0</td>\n",
       "    </tr>\n",
       "    <tr>\n",
       "      <th>28</th>\n",
       "      <td>Nevada</td>\n",
       "      <td>8960.0</td>\n",
       "    </tr>\n",
       "    <tr>\n",
       "      <th>9</th>\n",
       "      <td>Florida</td>\n",
       "      <td>8920.0</td>\n",
       "    </tr>\n",
       "    <tr>\n",
       "      <th>42</th>\n",
       "      <td>Tennessee</td>\n",
       "      <td>8810.0</td>\n",
       "    </tr>\n",
       "    <tr>\n",
       "      <th>33</th>\n",
       "      <td>North Carolina</td>\n",
       "      <td>8792.0</td>\n",
       "    </tr>\n",
       "    <tr>\n",
       "      <th>24</th>\n",
       "      <td>Mississippi</td>\n",
       "      <td>8702.0</td>\n",
       "    </tr>\n",
       "    <tr>\n",
       "      <th>36</th>\n",
       "      <td>Oklahoma</td>\n",
       "      <td>8097.0</td>\n",
       "    </tr>\n",
       "    <tr>\n",
       "      <th>2</th>\n",
       "      <td>Arizona</td>\n",
       "      <td>7613.0</td>\n",
       "    </tr>\n",
       "    <tr>\n",
       "      <th>12</th>\n",
       "      <td>Idaho</td>\n",
       "      <td>7157.0</td>\n",
       "    </tr>\n",
       "    <tr>\n",
       "      <th>44</th>\n",
       "      <td>Utah</td>\n",
       "      <td>6953.0</td>\n",
       "    </tr>\n",
       "  </tbody>\n",
       "</table>\n",
       "</div>"
      ],
      "text/plain": [
       "                   State  Total Per Pupil Spending\n",
       "32              New York                   22366.0\n",
       "8   District of Columbia                   19159.0\n",
       "6            Connecticut                   18958.0\n",
       "30            New Jersey                   18402.0\n",
       "45               Vermont                   17873.0\n",
       "1                 Alaska                   17510.0\n",
       "50               Wyoming                   16442.0\n",
       "21         Massachusetts                   15593.0\n",
       "39          Rhode Island                   15532.0\n",
       "38          Pennsylvania                   15418.0\n",
       "29         New Hampshire                   15340.0\n",
       "7               Delaware                   14713.0\n",
       "20              Maryland                   14206.0\n",
       "13              Illinois                   14180.0\n",
       "11                Hawaii                   13748.0\n",
       "34          North Dakota                   13373.0\n",
       "19                 Maine                   13278.0\n",
       "23             Minnesota                   12382.0\n",
       "27              Nebraska                   12299.0\n",
       "35                  Ohio                   12102.0\n",
       "22              Michigan                   11668.0\n",
       "47            Washington                   11534.0\n",
       "4             California                   11495.0\n",
       "49             Wisconsin                   11456.0\n",
       "46              Virginia                   11432.0\n",
       "26               Montana                   11348.0\n",
       "48         West Virginia                   11291.0\n",
       "15                  Iowa                   11150.0\n",
       "18             Louisiana                   11038.0\n",
       "37                Oregon                   10842.0\n",
       "25              Missouri                   10313.0\n",
       "40        South Carolina                   10249.0\n",
       "16                Kansas                    9960.0\n",
       "17              Kentucky                    9863.0\n",
       "14               Indiana                    9856.0\n",
       "3               Arkansas                    9846.0\n",
       "10               Georgia                    9769.0\n",
       "31            New Mexico                    9693.0\n",
       "5               Colorado                    9575.0\n",
       "0                Alabama                    9236.0\n",
       "41          South Dakota                    9176.0\n",
       "43                 Texas                    9016.0\n",
       "28                Nevada                    8960.0\n",
       "9                Florida                    8920.0\n",
       "42             Tennessee                    8810.0\n",
       "33        North Carolina                    8792.0\n",
       "24           Mississippi                    8702.0\n",
       "36              Oklahoma                    8097.0\n",
       "2                Arizona                    7613.0\n",
       "12                 Idaho                    7157.0\n",
       "44                  Utah                    6953.0"
      ]
     },
     "execution_count": 5,
     "metadata": {},
     "output_type": "execute_result"
    }
   ],
   "source": [
    "pps = states[['State', 'Total Per Pupil Spending']]\n",
    "pps.sort_values('Total Per Pupil Spending', ascending=False)"
   ]
  },
  {
   "cell_type": "markdown",
   "id": "d5c3839b",
   "metadata": {},
   "source": [
    "This data comes from https://www2.ed.gov/about/inits/ed/edfacts/data-files/index.html."
   ]
  },
  {
   "cell_type": "code",
   "execution_count": 6,
   "id": "96039797",
   "metadata": {},
   "outputs": [
    {
     "name": "stdout",
     "output_type": "stream",
     "text": [
      "<class 'pandas.core.frame.DataFrame'>\n",
      "RangeIndex: 16238 entries, 0 to 16237\n",
      "Columns: 229 entries, STNAM to MIG_RLAHSPCTPROF_1516\n",
      "dtypes: int64(3), object(226)\n",
      "memory usage: 28.4+ MB\n"
     ]
    },
    {
     "name": "stderr",
     "output_type": "stream",
     "text": [
      "C:\\Users\\evarv\\AppData\\Local\\Temp\\ipykernel_19700\\4199286999.py:1: DtypeWarning: Columns (17,45,129,143) have mixed types. Specify dtype option on import or set low_memory=False.\n",
      "  reading_levels = pd.read_csv('./data/rla-achievement-lea-sy2015-16.csv')\n"
     ]
    }
   ],
   "source": [
    "reading_levels = pd.read_csv('./data/rla-achievement-lea-sy2015-16.csv')\n",
    "reading_levels.info()"
   ]
  },
  {
   "cell_type": "code",
   "execution_count": 7,
   "id": "f3bd55c7",
   "metadata": {},
   "outputs": [],
   "source": [
    "cols = []\n",
    "\n",
    "for col in reading_levels.columns:\n",
    "    if ('PCTPROF' in col) and (col[:3] == 'ALL'):\n",
    "        cols.append(col)"
   ]
  },
  {
   "cell_type": "code",
   "execution_count": 8,
   "id": "b8185b9a",
   "metadata": {},
   "outputs": [],
   "source": [
    "levels_summary = reading_levels[['STNAM', 'LEAID'] + cols]"
   ]
  },
  {
   "cell_type": "code",
   "execution_count": 9,
   "id": "180976fa",
   "metadata": {},
   "outputs": [
    {
     "name": "stdout",
     "output_type": "stream",
     "text": [
      "<class 'pandas.core.frame.DataFrame'>\n",
      "RangeIndex: 16238 entries, 0 to 16237\n",
      "Data columns (total 10 columns):\n",
      " #   Column                 Non-Null Count  Dtype \n",
      "---  ------                 --------------  ----- \n",
      " 0   STNAM                  16238 non-null  object\n",
      " 1   LEAID                  16238 non-null  int64 \n",
      " 2   ALL_RLA00PCTPROF_1516  16238 non-null  object\n",
      " 3   ALL_RLA03PCTPROF_1516  14751 non-null  object\n",
      " 4   ALL_RLA04PCTPROF_1516  14713 non-null  object\n",
      " 5   ALL_RLA05PCTPROF_1516  14737 non-null  object\n",
      " 6   ALL_RLA06PCTPROF_1516  14756 non-null  object\n",
      " 7   ALL_RLA07PCTPROF_1516  14356 non-null  object\n",
      " 8   ALL_RLA08PCTPROF_1516  14279 non-null  object\n",
      " 9   ALL_RLAHSPCTPROF_1516  12420 non-null  object\n",
      "dtypes: int64(1), object(9)\n",
      "memory usage: 1.2+ MB\n"
     ]
    }
   ],
   "source": [
    "levels_summary.info()"
   ]
  },
  {
   "cell_type": "markdown",
   "id": "2656d546",
   "metadata": {},
   "source": [
    "The following education data can be found on https://www2.ed.gov/about/inits/ed/edfacts/data-files/index.html."
   ]
  },
  {
   "cell_type": "code",
   "execution_count": 10,
   "id": "592e13c2",
   "metadata": {},
   "outputs": [
    {
     "name": "stderr",
     "output_type": "stream",
     "text": [
      "C:\\Users\\evarv\\AppData\\Local\\Temp\\ipykernel_19700\\3648170517.py:1: DtypeWarning: Columns (17) have mixed types. Specify dtype option on import or set low_memory=False.\n",
      "  math_levels = pd.read_csv('./data/math-achievement-lea-sy2015-16.csv')\n"
     ]
    }
   ],
   "source": [
    "math_levels = pd.read_csv('./data/math-achievement-lea-sy2015-16.csv')"
   ]
  },
  {
   "cell_type": "code",
   "execution_count": 11,
   "id": "5690604b",
   "metadata": {},
   "outputs": [],
   "source": [
    "cols = []\n",
    "\n",
    "for col in math_levels.columns:\n",
    "    if ('PCTPROF' in col) and (col[:3] == 'ALL'):\n",
    "        cols.append(col)"
   ]
  },
  {
   "cell_type": "code",
   "execution_count": 12,
   "id": "3d0344e8",
   "metadata": {},
   "outputs": [],
   "source": [
    "levels_summary = pd.merge(left=levels_summary, right=math_levels[['STNAM', 'LEAID'] + cols])"
   ]
  },
  {
   "cell_type": "code",
   "execution_count": 13,
   "id": "5b33e85b",
   "metadata": {},
   "outputs": [
    {
     "name": "stdout",
     "output_type": "stream",
     "text": [
      "<class 'pandas.core.frame.DataFrame'>\n",
      "RangeIndex: 16222 entries, 0 to 16221\n",
      "Data columns (total 18 columns):\n",
      " #   Column                 Non-Null Count  Dtype \n",
      "---  ------                 --------------  ----- \n",
      " 0   STNAM                  16222 non-null  object\n",
      " 1   LEAID                  16222 non-null  int64 \n",
      " 2   ALL_RLA00PCTPROF_1516  16222 non-null  object\n",
      " 3   ALL_RLA03PCTPROF_1516  14750 non-null  object\n",
      " 4   ALL_RLA04PCTPROF_1516  14712 non-null  object\n",
      " 5   ALL_RLA05PCTPROF_1516  14736 non-null  object\n",
      " 6   ALL_RLA06PCTPROF_1516  14755 non-null  object\n",
      " 7   ALL_RLA07PCTPROF_1516  14355 non-null  object\n",
      " 8   ALL_RLA08PCTPROF_1516  14277 non-null  object\n",
      " 9   ALL_RLAHSPCTPROF_1516  12405 non-null  object\n",
      " 10  ALL_MTH00PCTPROF_1516  16222 non-null  object\n",
      " 11  ALL_MTH03PCTPROF_1516  14749 non-null  object\n",
      " 12  ALL_MTH04PCTPROF_1516  14712 non-null  object\n",
      " 13  ALL_MTH05PCTPROF_1516  14736 non-null  object\n",
      " 14  ALL_MTH06PCTPROF_1516  14753 non-null  object\n",
      " 15  ALL_MTH07PCTPROF_1516  14360 non-null  object\n",
      " 16  ALL_MTH08PCTPROF_1516  14272 non-null  object\n",
      " 17  ALL_MTHHSPCTPROF_1516  12431 non-null  object\n",
      "dtypes: int64(1), object(17)\n",
      "memory usage: 2.2+ MB\n"
     ]
    }
   ],
   "source": [
    "levels_summary.info()"
   ]
  },
  {
   "cell_type": "code",
   "execution_count": 14,
   "id": "b4fd97ad",
   "metadata": {},
   "outputs": [],
   "source": [
    "overall_levels = levels_summary[['STNAM', 'ALL_RLA00PCTPROF_1516', 'ALL_MTH00PCTPROF_1516']].dropna()"
   ]
  },
  {
   "cell_type": "code",
   "execution_count": 15,
   "id": "ba284af2",
   "metadata": {},
   "outputs": [
    {
     "data": {
      "text/html": [
       "<div>\n",
       "<style scoped>\n",
       "    .dataframe tbody tr th:only-of-type {\n",
       "        vertical-align: middle;\n",
       "    }\n",
       "\n",
       "    .dataframe tbody tr th {\n",
       "        vertical-align: top;\n",
       "    }\n",
       "\n",
       "    .dataframe thead th {\n",
       "        text-align: right;\n",
       "    }\n",
       "</style>\n",
       "<table border=\"1\" class=\"dataframe\">\n",
       "  <thead>\n",
       "    <tr style=\"text-align: right;\">\n",
       "      <th></th>\n",
       "      <th>STNAM</th>\n",
       "      <th>ALL_RLA00PCTPROF_1516</th>\n",
       "      <th>ALL_MTH00PCTPROF_1516</th>\n",
       "    </tr>\n",
       "  </thead>\n",
       "  <tbody>\n",
       "    <tr>\n",
       "      <th>0</th>\n",
       "      <td>ALABAMA</td>\n",
       "      <td>33</td>\n",
       "      <td>42</td>\n",
       "    </tr>\n",
       "    <tr>\n",
       "      <th>1</th>\n",
       "      <td>ALABAMA</td>\n",
       "      <td>33</td>\n",
       "      <td>39</td>\n",
       "    </tr>\n",
       "    <tr>\n",
       "      <th>2</th>\n",
       "      <td>ALABAMA</td>\n",
       "      <td>58</td>\n",
       "      <td>66</td>\n",
       "    </tr>\n",
       "    <tr>\n",
       "      <th>3</th>\n",
       "      <td>ALABAMA</td>\n",
       "      <td>67</td>\n",
       "      <td>72</td>\n",
       "    </tr>\n",
       "    <tr>\n",
       "      <th>4</th>\n",
       "      <td>ALABAMA</td>\n",
       "      <td>33</td>\n",
       "      <td>37</td>\n",
       "    </tr>\n",
       "  </tbody>\n",
       "</table>\n",
       "</div>"
      ],
      "text/plain": [
       "     STNAM ALL_RLA00PCTPROF_1516 ALL_MTH00PCTPROF_1516\n",
       "0  ALABAMA                    33                    42\n",
       "1  ALABAMA                    33                    39\n",
       "2  ALABAMA                    58                    66\n",
       "3  ALABAMA                    67                    72\n",
       "4  ALABAMA                    33                    37"
      ]
     },
     "execution_count": 15,
     "metadata": {},
     "output_type": "execute_result"
    }
   ],
   "source": [
    "overall_levels.head()"
   ]
  },
  {
   "cell_type": "code",
   "execution_count": 16,
   "id": "6e14a79f",
   "metadata": {},
   "outputs": [],
   "source": [
    "def score_to_float(score: str):\n",
    "    if '-' in score:\n",
    "        min_score, max_score = score.split('-')\n",
    "        return (float(min_score) + float(max_score)) / 2\n",
    "    elif not str.isalpha(score[0]):\n",
    "        return float(score)\n",
    "    elif score[:2] == 'GE' or score[:2] == 'GT':\n",
    "        return (float(score[2:]) + 100) / 2\n",
    "    elif score[:2] == 'LE' or score[:2] == 'LT':\n",
    "        return (float(score[2:]) / 2)\n",
    "    else:\n",
    "        return np.nan"
   ]
  },
  {
   "cell_type": "code",
   "execution_count": 17,
   "id": "095ab6f9",
   "metadata": {
    "scrolled": true
   },
   "outputs": [],
   "source": [
    "overall_levels['avg_reading_score'] = overall_levels['ALL_RLA00PCTPROF_1516'].apply(score_to_float)"
   ]
  },
  {
   "cell_type": "code",
   "execution_count": 18,
   "id": "291dfe12",
   "metadata": {},
   "outputs": [],
   "source": [
    "overall_levels['avg_math_score'] = overall_levels['ALL_MTH00PCTPROF_1516'].apply(score_to_float)"
   ]
  },
  {
   "cell_type": "code",
   "execution_count": 19,
   "id": "2a07b24e",
   "metadata": {},
   "outputs": [],
   "source": [
    "mean_state_reading_scores = overall_levels.groupby('STNAM')['avg_reading_score'].mean()\n",
    "mean_state_math_scores = overall_levels.groupby('STNAM')['avg_math_score'].mean()"
   ]
  },
  {
   "cell_type": "code",
   "execution_count": 20,
   "id": "84a757b1",
   "metadata": {},
   "outputs": [],
   "source": [
    "msms = np.array(mean_state_math_scores.drop(['BUREAU OF INDIAN AFFAIRS', 'PUERTO RICO', 'VIRGIN ISLANDS']))\n",
    "pps = pps.drop(1)\n",
    "pps['math_scores'] = msms"
   ]
  },
  {
   "cell_type": "code",
   "execution_count": 21,
   "id": "22af8743",
   "metadata": {},
   "outputs": [],
   "source": [
    "msrs = np.array(mean_state_reading_scores.drop(['BUREAU OF INDIAN AFFAIRS', 'PUERTO RICO', 'VIRGIN ISLANDS']))\n",
    "pps['reading_scores'] = msrs"
   ]
  },
  {
   "cell_type": "code",
   "execution_count": 22,
   "id": "8f81321b",
   "metadata": {},
   "outputs": [
    {
     "data": {
      "text/plain": [
       "(0.0, 100.0)"
      ]
     },
     "execution_count": 22,
     "metadata": {},
     "output_type": "execute_result"
    },
    {
     "data": {
      "image/png": "[encoded data removed]",
      "text/plain": [
       "<Figure size 1000x600 with 1 Axes>"
      ]
     },
     "metadata": {},
     "output_type": "display_data"
    }
   ],
   "source": [
    "plt.figure(figsize=(10,6))\n",
    "\n",
    "plt.scatter('Total Per Pupil Spending', 'reading_scores', data=pps)\n",
    "plt.scatter('Total Per Pupil Spending', 'math_scores', data=pps)\n",
    "\n",
    "plt.ylabel('Average proficiency (%)')\n",
    "plt.xlabel('Total per student spending ($)')\n",
    "\n",
    "plt.legend()\n",
    "# plt.xlim(left=0)\n",
    "plt.ylim(0, 100)"
   ]
  },
  {
   "cell_type": "code",
   "execution_count": 23,
   "id": "e2f0bf5f",
   "metadata": {},
   "outputs": [
    {
     "data": {
      "text/html": [
       "<div>\n",
       "<style scoped>\n",
       "    .dataframe tbody tr th:only-of-type {\n",
       "        vertical-align: middle;\n",
       "    }\n",
       "\n",
       "    .dataframe tbody tr th {\n",
       "        vertical-align: top;\n",
       "    }\n",
       "\n",
       "    .dataframe thead th {\n",
       "        text-align: right;\n",
       "    }\n",
       "</style>\n",
       "<table border=\"1\" class=\"dataframe\">\n",
       "  <thead>\n",
       "    <tr style=\"text-align: right;\">\n",
       "      <th></th>\n",
       "      <th>Total Per Pupil Spending</th>\n",
       "      <th>reading_scores</th>\n",
       "      <th>math_scores</th>\n",
       "    </tr>\n",
       "  </thead>\n",
       "  <tbody>\n",
       "    <tr>\n",
       "      <th>Total Per Pupil Spending</th>\n",
       "      <td>1.000000</td>\n",
       "      <td>0.130555</td>\n",
       "      <td>0.064105</td>\n",
       "    </tr>\n",
       "    <tr>\n",
       "      <th>reading_scores</th>\n",
       "      <td>0.130555</td>\n",
       "      <td>1.000000</td>\n",
       "      <td>0.896520</td>\n",
       "    </tr>\n",
       "    <tr>\n",
       "      <th>math_scores</th>\n",
       "      <td>0.064105</td>\n",
       "      <td>0.896520</td>\n",
       "      <td>1.000000</td>\n",
       "    </tr>\n",
       "  </tbody>\n",
       "</table>\n",
       "</div>"
      ],
      "text/plain": [
       "                          Total Per Pupil Spending  reading_scores  \\\n",
       "Total Per Pupil Spending                  1.000000        0.130555   \n",
       "reading_scores                            0.130555        1.000000   \n",
       "math_scores                               0.064105        0.896520   \n",
       "\n",
       "                          math_scores  \n",
       "Total Per Pupil Spending     0.064105  \n",
       "reading_scores               0.896520  \n",
       "math_scores                  1.000000  "
      ]
     },
     "execution_count": 23,
     "metadata": {},
     "output_type": "execute_result"
    }
   ],
   "source": [
    "pps[['Total Per Pupil Spending', 'reading_scores', 'math_scores']].corr()"
   ]
  },
  {
   "cell_type": "code",
   "execution_count": 24,
   "id": "d71d000d",
   "metadata": {},
   "outputs": [
    {
     "data": {
      "text/html": [
       "<style>#sk-container-id-1 {color: black;background-color: white;}#sk-container-id-1 pre{padding: 0;}#sk-container-id-1 div.sk-toggleable {background-color: white;}#sk-container-id-1 label.sk-toggleable__label {cursor: pointer;display: block;width: 100%;margin-bottom: 0;padding: 0.3em;box-sizing: border-box;text-align: center;}#sk-container-id-1 label.sk-toggleable__label-arrow:before {content: \"▸\";float: left;margin-right: 0.25em;color: #696969;}#sk-container-id-1 label.sk-toggleable__label-arrow:hover:before {color: black;}#sk-container-id-1 div.sk-estimator:hover label.sk-toggleable__label-arrow:before {color: black;}#sk-container-id-1 div.sk-toggleable__content {max-height: 0;max-width: 0;overflow: hidden;text-align: left;background-color: #f0f8ff;}#sk-container-id-1 div.sk-toggleable__content pre {margin: 0.2em;color: black;border-radius: 0.25em;background-color: #f0f8ff;}#sk-container-id-1 input.sk-toggleable__control:checked~div.sk-toggleable__content {max-height: 200px;max-width: 100%;overflow: auto;}#sk-container-id-1 input.sk-toggleable__control:checked~label.sk-toggleable__label-arrow:before {content: \"▾\";}#sk-container-id-1 div.sk-estimator input.sk-toggleable__control:checked~label.sk-toggleable__label {background-color: #d4ebff;}#sk-container-id-1 div.sk-label input.sk-toggleable__control:checked~label.sk-toggleable__label {background-color: #d4ebff;}#sk-container-id-1 input.sk-hidden--visually {border: 0;clip: rect(1px 1px 1px 1px);clip: rect(1px, 1px, 1px, 1px);height: 1px;margin: -1px;overflow: hidden;padding: 0;position: absolute;width: 1px;}#sk-container-id-1 div.sk-estimator {font-family: monospace;background-color: #f0f8ff;border: 1px dotted black;border-radius: 0.25em;box-sizing: border-box;margin-bottom: 0.5em;}#sk-container-id-1 div.sk-estimator:hover {background-color: #d4ebff;}#sk-container-id-1 div.sk-parallel-item::after {content: \"\";width: 100%;border-bottom: 1px solid gray;flex-grow: 1;}#sk-container-id-1 div.sk-label:hover label.sk-toggleable__label {background-color: #d4ebff;}#sk-container-id-1 div.sk-serial::before {content: \"\";position: absolute;border-left: 1px solid gray;box-sizing: border-box;top: 0;bottom: 0;left: 50%;z-index: 0;}#sk-container-id-1 div.sk-serial {display: flex;flex-direction: column;align-items: center;background-color: white;padding-right: 0.2em;padding-left: 0.2em;position: relative;}#sk-container-id-1 div.sk-item {position: relative;z-index: 1;}#sk-container-id-1 div.sk-parallel {display: flex;align-items: stretch;justify-content: center;background-color: white;position: relative;}#sk-container-id-1 div.sk-item::before, #sk-container-id-1 div.sk-parallel-item::before {content: \"\";position: absolute;border-left: 1px solid gray;box-sizing: border-box;top: 0;bottom: 0;left: 50%;z-index: -1;}#sk-container-id-1 div.sk-parallel-item {display: flex;flex-direction: column;z-index: 1;position: relative;background-color: white;}#sk-container-id-1 div.sk-parallel-item:first-child::after {align-self: flex-end;width: 50%;}#sk-container-id-1 div.sk-parallel-item:last-child::after {align-self: flex-start;width: 50%;}#sk-container-id-1 div.sk-parallel-item:only-child::after {width: 0;}#sk-container-id-1 div.sk-dashed-wrapped {border: 1px dashed gray;margin: 0 0.4em 0.5em 0.4em;box-sizing: border-box;padding-bottom: 0.4em;background-color: white;}#sk-container-id-1 div.sk-label label {font-family: monospace;font-weight: bold;display: inline-block;line-height: 1.2em;}#sk-container-id-1 div.sk-label-container {text-align: center;}#sk-container-id-1 div.sk-container {/* jupyter's `normalize.less` sets `[hidden] { display: none; }` but bootstrap.min.css set `[hidden] { display: none !important; }` so we also need the `!important` here to be able to override the default hidden behavior on the sphinx rendered scikit-learn.org. See: https://github.com/scikit-learn/scikit-learn/issues/21755 */display: inline-block !important;position: relative;}#sk-container-id-1 div.sk-text-repr-fallback {display: none;}</style><div id=\"sk-container-id-1\" class=\"sk-top-container\"><div class=\"sk-text-repr-fallback\"><pre>LinearRegression()</pre><b>In a Jupyter environment, please rerun this cell to show the HTML representation or trust the notebook. <br />On GitHub, the HTML representation is unable to render, please try loading this page with nbviewer.org.</b></div><div class=\"sk-container\" hidden><div class=\"sk-item\"><div class=\"sk-estimator sk-toggleable\"><input class=\"sk-toggleable__control sk-hidden--visually\" id=\"sk-estimator-id-1\" type=\"checkbox\" checked><label for=\"sk-estimator-id-1\" class=\"sk-toggleable__label sk-toggleable__label-arrow\">LinearRegression</label><div class=\"sk-toggleable__content\"><pre>LinearRegression()</pre></div></div></div></div></div>"
      ],
      "text/plain": [
       "LinearRegression()"
      ]
     },
     "execution_count": 24,
     "metadata": {},
     "output_type": "execute_result"
    }
   ],
   "source": [
    "from sklearn.linear_model import LinearRegression\n",
    "\n",
    "math_slr = LinearRegression()\n",
    "\n",
    "math_slr.fit(pps[['Total Per Pupil Spending']].values, pps['math_scores'].values)\n"
   ]
  },
  {
   "cell_type": "code",
   "execution_count": 25,
   "id": "543eae88",
   "metadata": {},
   "outputs": [
    {
     "name": "stdout",
     "output_type": "stream",
     "text": [
      "Math score procifiency (%) ~ 40.65945020202182 + 2.5941970674645036 * $10000 of per-pupil spending\n"
     ]
    }
   ],
   "source": [
    "print(f\"Math score procifiency (%) ~ {math_slr.intercept_} + {math_slr.coef_[0] * 10000} * $10000 of per-pupil spending\")"
   ]
  },
  {
   "cell_type": "code",
   "execution_count": 26,
   "id": "543fc3f8",
   "metadata": {},
   "outputs": [
    {
     "name": "stdout",
     "output_type": "stream",
     "text": [
      "Reading score proficiency (%) ~ 44.75373292743498 + 4.926932716962559 * $10000 of per-pupil spending\n"
     ]
    }
   ],
   "source": [
    "reading_slr = LinearRegression()\n",
    "\n",
    "reading_slr.fit(pps[['Total Per Pupil Spending']].values, pps['reading_scores'].values)\n",
    "\n",
    "print(f\"Reading score proficiency (%) ~ {reading_slr.intercept_} + {reading_slr.coef_[0] * 10000} * $10000 of per-pupil spending\")"
   ]
  }
 ],
 "metadata": {
  "kernelspec": {
   "display_name": "Python 3 (ipykernel)",
   "language": "python",
   "name": "python3"
  },
  "language_info": {
   "codemirror_mode": {
    "name": "ipython",
    "version": 3
   },
   "file_extension": ".py",
   "mimetype": "text/x-python",
   "name": "python",
   "nbconvert_exporter": "python",
   "pygments_lexer": "ipython3",
   "version": "3.11.7"
  }
 },
 "nbformat": 4,
 "nbformat_minor": 5
}
