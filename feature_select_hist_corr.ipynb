{
 "cells": [
  {
   "cell_type": "code",
   "execution_count": 1,
   "metadata": {},
   "outputs": [],
   "source": [
    "import pandas as pd\n",
    "import numpy as np\n",
    "import matplotlib.pyplot as plt\n",
    "import feature_selection_helpers as fsh"
   ]
  },
  {
   "cell_type": "code",
   "execution_count": 2,
   "metadata": {},
   "outputs": [],
   "source": [
    "# Read in NSCH data\n",
    "df = pd.read_sas('data/nsch_2019e_topical.sas7bdat')"
   ]
  },
  {
   "cell_type": "code",
   "execution_count": 3,
   "metadata": {},
   "outputs": [
    {
     "name": "stderr",
     "output_type": "stream",
     "text": [
      "/Users/gyoung19/Library/CloudStorage/OneDrive-KennesawStateUniversity/Python/Erdos/Health_Edu_Project/feature_selection_helpers.py:35: RuntimeWarning: invalid value encountered in divide\n",
      "  return (hist1.astype(np.float32) / hist1.sum(), hist2.astype(np.float32) / hist2.sum())\n",
      "/Users/gyoung19/Library/CloudStorage/OneDrive-KennesawStateUniversity/Python/Erdos/Health_Edu_Project/feature_selection_helpers.py:35: RuntimeWarning: invalid value encountered in divide\n",
      "  return (hist1.astype(np.float32) / hist1.sum(), hist2.astype(np.float32) / hist2.sum())\n",
      "/Users/gyoung19/Library/CloudStorage/OneDrive-KennesawStateUniversity/Python/Erdos/Health_Edu_Project/feature_selection_helpers.py:35: RuntimeWarning: invalid value encountered in divide\n",
      "  return (hist1.astype(np.float32) / hist1.sum(), hist2.astype(np.float32) / hist2.sum())\n",
      "/Users/gyoung19/Library/CloudStorage/OneDrive-KennesawStateUniversity/Python/Erdos/Health_Edu_Project/feature_selection_helpers.py:35: RuntimeWarning: invalid value encountered in divide\n",
      "  return (hist1.astype(np.float32) / hist1.sum(), hist2.astype(np.float32) / hist2.sum())\n",
      "/Users/gyoung19/Library/CloudStorage/OneDrive-KennesawStateUniversity/Python/Erdos/Health_Edu_Project/feature_selection_helpers.py:35: RuntimeWarning: invalid value encountered in divide\n",
      "  return (hist1.astype(np.float32) / hist1.sum(), hist2.astype(np.float32) / hist2.sum())\n",
      "/Users/gyoung19/Library/CloudStorage/OneDrive-KennesawStateUniversity/Python/Erdos/Health_Edu_Project/feature_selection_helpers.py:35: RuntimeWarning: invalid value encountered in divide\n",
      "  return (hist1.astype(np.float32) / hist1.sum(), hist2.astype(np.float32) / hist2.sum())\n",
      "/Users/gyoung19/Library/CloudStorage/OneDrive-KennesawStateUniversity/Python/Erdos/Health_Edu_Project/feature_selection_helpers.py:35: RuntimeWarning: invalid value encountered in divide\n",
      "  return (hist1.astype(np.float32) / hist1.sum(), hist2.astype(np.float32) / hist2.sum())\n",
      "/Users/gyoung19/Library/CloudStorage/OneDrive-KennesawStateUniversity/Python/Erdos/Health_Edu_Project/feature_selection_helpers.py:35: RuntimeWarning: invalid value encountered in divide\n",
      "  return (hist1.astype(np.float32) / hist1.sum(), hist2.astype(np.float32) / hist2.sum())\n",
      "/Users/gyoung19/Library/CloudStorage/OneDrive-KennesawStateUniversity/Python/Erdos/Health_Edu_Project/feature_selection_helpers.py:35: RuntimeWarning: invalid value encountered in divide\n",
      "  return (hist1.astype(np.float32) / hist1.sum(), hist2.astype(np.float32) / hist2.sum())\n",
      "/Users/gyoung19/Library/CloudStorage/OneDrive-KennesawStateUniversity/Python/Erdos/Health_Edu_Project/feature_selection_helpers.py:35: RuntimeWarning: invalid value encountered in divide\n",
      "  return (hist1.astype(np.float32) / hist1.sum(), hist2.astype(np.float32) / hist2.sum())\n",
      "/Users/gyoung19/Library/CloudStorage/OneDrive-KennesawStateUniversity/Python/Erdos/Health_Edu_Project/feature_selection_helpers.py:35: RuntimeWarning: invalid value encountered in divide\n",
      "  return (hist1.astype(np.float32) / hist1.sum(), hist2.astype(np.float32) / hist2.sum())\n",
      "/Users/gyoung19/Library/CloudStorage/OneDrive-KennesawStateUniversity/Python/Erdos/Health_Edu_Project/feature_selection_helpers.py:35: RuntimeWarning: invalid value encountered in divide\n",
      "  return (hist1.astype(np.float32) / hist1.sum(), hist2.astype(np.float32) / hist2.sum())\n",
      "/Users/gyoung19/Library/CloudStorage/OneDrive-KennesawStateUniversity/Python/Erdos/Health_Edu_Project/feature_selection_helpers.py:35: RuntimeWarning: invalid value encountered in divide\n",
      "  return (hist1.astype(np.float32) / hist1.sum(), hist2.astype(np.float32) / hist2.sum())\n",
      "/Users/gyoung19/Library/CloudStorage/OneDrive-KennesawStateUniversity/Python/Erdos/Health_Edu_Project/feature_selection_helpers.py:35: RuntimeWarning: invalid value encountered in divide\n",
      "  return (hist1.astype(np.float32) / hist1.sum(), hist2.astype(np.float32) / hist2.sum())\n",
      "/Users/gyoung19/Library/CloudStorage/OneDrive-KennesawStateUniversity/Python/Erdos/Health_Edu_Project/feature_selection_helpers.py:35: RuntimeWarning: invalid value encountered in divide\n",
      "  return (hist1.astype(np.float32) / hist1.sum(), hist2.astype(np.float32) / hist2.sum())\n",
      "/Users/gyoung19/Library/CloudStorage/OneDrive-KennesawStateUniversity/Python/Erdos/Health_Edu_Project/feature_selection_helpers.py:35: RuntimeWarning: invalid value encountered in divide\n",
      "  return (hist1.astype(np.float32) / hist1.sum(), hist2.astype(np.float32) / hist2.sum())\n",
      "/Users/gyoung19/Library/CloudStorage/OneDrive-KennesawStateUniversity/Python/Erdos/Health_Edu_Project/feature_selection_helpers.py:35: RuntimeWarning: invalid value encountered in divide\n",
      "  return (hist1.astype(np.float32) / hist1.sum(), hist2.astype(np.float32) / hist2.sum())\n",
      "/Users/gyoung19/Library/CloudStorage/OneDrive-KennesawStateUniversity/Python/Erdos/Health_Edu_Project/feature_selection_helpers.py:35: RuntimeWarning: invalid value encountered in divide\n",
      "  return (hist1.astype(np.float32) / hist1.sum(), hist2.astype(np.float32) / hist2.sum())\n",
      "/Users/gyoung19/Library/CloudStorage/OneDrive-KennesawStateUniversity/Python/Erdos/Health_Edu_Project/feature_selection_helpers.py:35: RuntimeWarning: invalid value encountered in divide\n",
      "  return (hist1.astype(np.float32) / hist1.sum(), hist2.astype(np.float32) / hist2.sum())\n",
      "/Users/gyoung19/Library/CloudStorage/OneDrive-KennesawStateUniversity/Python/Erdos/Health_Edu_Project/feature_selection_helpers.py:35: RuntimeWarning: invalid value encountered in divide\n",
      "  return (hist1.astype(np.float32) / hist1.sum(), hist2.astype(np.float32) / hist2.sum())\n",
      "/Users/gyoung19/Library/CloudStorage/OneDrive-KennesawStateUniversity/Python/Erdos/Health_Edu_Project/feature_selection_helpers.py:35: RuntimeWarning: invalid value encountered in divide\n",
      "  return (hist1.astype(np.float32) / hist1.sum(), hist2.astype(np.float32) / hist2.sum())\n",
      "/Users/gyoung19/Library/CloudStorage/OneDrive-KennesawStateUniversity/Python/Erdos/Health_Edu_Project/feature_selection_helpers.py:35: RuntimeWarning: invalid value encountered in divide\n",
      "  return (hist1.astype(np.float32) / hist1.sum(), hist2.astype(np.float32) / hist2.sum())\n",
      "/Users/gyoung19/Library/CloudStorage/OneDrive-KennesawStateUniversity/Python/Erdos/Health_Edu_Project/feature_selection_helpers.py:35: RuntimeWarning: invalid value encountered in divide\n",
      "  return (hist1.astype(np.float32) / hist1.sum(), hist2.astype(np.float32) / hist2.sum())\n",
      "/Users/gyoung19/Library/CloudStorage/OneDrive-KennesawStateUniversity/Python/Erdos/Health_Edu_Project/feature_selection_helpers.py:35: RuntimeWarning: invalid value encountered in divide\n",
      "  return (hist1.astype(np.float32) / hist1.sum(), hist2.astype(np.float32) / hist2.sum())\n",
      "/Users/gyoung19/Library/CloudStorage/OneDrive-KennesawStateUniversity/Python/Erdos/Health_Edu_Project/feature_selection_helpers.py:35: RuntimeWarning: invalid value encountered in divide\n",
      "  return (hist1.astype(np.float32) / hist1.sum(), hist2.astype(np.float32) / hist2.sum())\n",
      "/Users/gyoung19/Library/CloudStorage/OneDrive-KennesawStateUniversity/Python/Erdos/Health_Edu_Project/feature_selection_helpers.py:35: RuntimeWarning: invalid value encountered in divide\n",
      "  return (hist1.astype(np.float32) / hist1.sum(), hist2.astype(np.float32) / hist2.sum())\n",
      "/Users/gyoung19/Library/CloudStorage/OneDrive-KennesawStateUniversity/Python/Erdos/Health_Edu_Project/feature_selection_helpers.py:35: RuntimeWarning: invalid value encountered in divide\n",
      "  return (hist1.astype(np.float32) / hist1.sum(), hist2.astype(np.float32) / hist2.sum())\n",
      "/Users/gyoung19/Library/CloudStorage/OneDrive-KennesawStateUniversity/Python/Erdos/Health_Edu_Project/feature_selection_helpers.py:35: RuntimeWarning: invalid value encountered in divide\n",
      "  return (hist1.astype(np.float32) / hist1.sum(), hist2.astype(np.float32) / hist2.sum())\n",
      "/Users/gyoung19/Library/CloudStorage/OneDrive-KennesawStateUniversity/Python/Erdos/Health_Edu_Project/feature_selection_helpers.py:35: RuntimeWarning: invalid value encountered in divide\n",
      "  return (hist1.astype(np.float32) / hist1.sum(), hist2.astype(np.float32) / hist2.sum())\n",
      "/Users/gyoung19/Library/CloudStorage/OneDrive-KennesawStateUniversity/Python/Erdos/Health_Edu_Project/feature_selection_helpers.py:35: RuntimeWarning: invalid value encountered in divide\n",
      "  return (hist1.astype(np.float32) / hist1.sum(), hist2.astype(np.float32) / hist2.sum())\n",
      "/Users/gyoung19/Library/CloudStorage/OneDrive-KennesawStateUniversity/Python/Erdos/Health_Edu_Project/feature_selection_helpers.py:35: RuntimeWarning: invalid value encountered in divide\n",
      "  return (hist1.astype(np.float32) / hist1.sum(), hist2.astype(np.float32) / hist2.sum())\n",
      "/Users/gyoung19/Library/CloudStorage/OneDrive-KennesawStateUniversity/Python/Erdos/Health_Edu_Project/feature_selection_helpers.py:35: RuntimeWarning: invalid value encountered in divide\n",
      "  return (hist1.astype(np.float32) / hist1.sum(), hist2.astype(np.float32) / hist2.sum())\n",
      "/Users/gyoung19/Library/CloudStorage/OneDrive-KennesawStateUniversity/Python/Erdos/Health_Edu_Project/feature_selection_helpers.py:35: RuntimeWarning: invalid value encountered in divide\n",
      "  return (hist1.astype(np.float32) / hist1.sum(), hist2.astype(np.float32) / hist2.sum())\n",
      "/Users/gyoung19/Library/CloudStorage/OneDrive-KennesawStateUniversity/Python/Erdos/Health_Edu_Project/feature_selection_helpers.py:35: RuntimeWarning: invalid value encountered in divide\n",
      "  return (hist1.astype(np.float32) / hist1.sum(), hist2.astype(np.float32) / hist2.sum())\n",
      "/Users/gyoung19/Library/CloudStorage/OneDrive-KennesawStateUniversity/Python/Erdos/Health_Edu_Project/feature_selection_helpers.py:35: RuntimeWarning: invalid value encountered in divide\n",
      "  return (hist1.astype(np.float32) / hist1.sum(), hist2.astype(np.float32) / hist2.sum())\n",
      "/Users/gyoung19/Library/CloudStorage/OneDrive-KennesawStateUniversity/Python/Erdos/Health_Edu_Project/feature_selection_helpers.py:35: RuntimeWarning: invalid value encountered in divide\n",
      "  return (hist1.astype(np.float32) / hist1.sum(), hist2.astype(np.float32) / hist2.sum())\n",
      "/Users/gyoung19/Library/CloudStorage/OneDrive-KennesawStateUniversity/Python/Erdos/Health_Edu_Project/feature_selection_helpers.py:35: RuntimeWarning: invalid value encountered in divide\n",
      "  return (hist1.astype(np.float32) / hist1.sum(), hist2.astype(np.float32) / hist2.sum())\n",
      "/Users/gyoung19/Library/CloudStorage/OneDrive-KennesawStateUniversity/Python/Erdos/Health_Edu_Project/feature_selection_helpers.py:35: RuntimeWarning: invalid value encountered in divide\n",
      "  return (hist1.astype(np.float32) / hist1.sum(), hist2.astype(np.float32) / hist2.sum())\n",
      "/Users/gyoung19/Library/CloudStorage/OneDrive-KennesawStateUniversity/Python/Erdos/Health_Edu_Project/feature_selection_helpers.py:35: RuntimeWarning: invalid value encountered in divide\n",
      "  return (hist1.astype(np.float32) / hist1.sum(), hist2.astype(np.float32) / hist2.sum())\n",
      "/Users/gyoung19/Library/CloudStorage/OneDrive-KennesawStateUniversity/Python/Erdos/Health_Edu_Project/feature_selection_helpers.py:35: RuntimeWarning: invalid value encountered in divide\n",
      "  return (hist1.astype(np.float32) / hist1.sum(), hist2.astype(np.float32) / hist2.sum())\n",
      "/Users/gyoung19/Library/CloudStorage/OneDrive-KennesawStateUniversity/Python/Erdos/Health_Edu_Project/feature_selection_helpers.py:35: RuntimeWarning: invalid value encountered in divide\n",
      "  return (hist1.astype(np.float32) / hist1.sum(), hist2.astype(np.float32) / hist2.sum())\n",
      "/Users/gyoung19/Library/CloudStorage/OneDrive-KennesawStateUniversity/Python/Erdos/Health_Edu_Project/feature_selection_helpers.py:35: RuntimeWarning: invalid value encountered in divide\n",
      "  return (hist1.astype(np.float32) / hist1.sum(), hist2.astype(np.float32) / hist2.sum())\n",
      "/Users/gyoung19/Library/CloudStorage/OneDrive-KennesawStateUniversity/Python/Erdos/Health_Edu_Project/feature_selection_helpers.py:35: RuntimeWarning: invalid value encountered in divide\n",
      "  return (hist1.astype(np.float32) / hist1.sum(), hist2.astype(np.float32) / hist2.sum())\n",
      "/Users/gyoung19/Library/CloudStorage/OneDrive-KennesawStateUniversity/Python/Erdos/Health_Edu_Project/feature_selection_helpers.py:35: RuntimeWarning: invalid value encountered in divide\n",
      "  return (hist1.astype(np.float32) / hist1.sum(), hist2.astype(np.float32) / hist2.sum())\n",
      "/Users/gyoung19/Library/CloudStorage/OneDrive-KennesawStateUniversity/Python/Erdos/Health_Edu_Project/feature_selection_helpers.py:35: RuntimeWarning: invalid value encountered in divide\n",
      "  return (hist1.astype(np.float32) / hist1.sum(), hist2.astype(np.float32) / hist2.sum())\n",
      "/Users/gyoung19/Library/CloudStorage/OneDrive-KennesawStateUniversity/Python/Erdos/Health_Edu_Project/feature_selection_helpers.py:35: RuntimeWarning: invalid value encountered in divide\n",
      "  return (hist1.astype(np.float32) / hist1.sum(), hist2.astype(np.float32) / hist2.sum())\n",
      "/Users/gyoung19/Library/CloudStorage/OneDrive-KennesawStateUniversity/Python/Erdos/Health_Edu_Project/feature_selection_helpers.py:35: RuntimeWarning: invalid value encountered in divide\n",
      "  return (hist1.astype(np.float32) / hist1.sum(), hist2.astype(np.float32) / hist2.sum())\n",
      "/Users/gyoung19/Library/CloudStorage/OneDrive-KennesawStateUniversity/Python/Erdos/Health_Edu_Project/feature_selection_helpers.py:35: RuntimeWarning: invalid value encountered in divide\n",
      "  return (hist1.astype(np.float32) / hist1.sum(), hist2.astype(np.float32) / hist2.sum())\n",
      "/Users/gyoung19/Library/CloudStorage/OneDrive-KennesawStateUniversity/Python/Erdos/Health_Edu_Project/feature_selection_helpers.py:35: RuntimeWarning: invalid value encountered in divide\n",
      "  return (hist1.astype(np.float32) / hist1.sum(), hist2.astype(np.float32) / hist2.sum())\n",
      "/Users/gyoung19/Library/CloudStorage/OneDrive-KennesawStateUniversity/Python/Erdos/Health_Edu_Project/feature_selection_helpers.py:35: RuntimeWarning: invalid value encountered in divide\n",
      "  return (hist1.astype(np.float32) / hist1.sum(), hist2.astype(np.float32) / hist2.sum())\n",
      "/Users/gyoung19/Library/CloudStorage/OneDrive-KennesawStateUniversity/Python/Erdos/Health_Edu_Project/feature_selection_helpers.py:35: RuntimeWarning: invalid value encountered in divide\n",
      "  return (hist1.astype(np.float32) / hist1.sum(), hist2.astype(np.float32) / hist2.sum())\n",
      "/Users/gyoung19/Library/CloudStorage/OneDrive-KennesawStateUniversity/Python/Erdos/Health_Edu_Project/feature_selection_helpers.py:35: RuntimeWarning: invalid value encountered in divide\n",
      "  return (hist1.astype(np.float32) / hist1.sum(), hist2.astype(np.float32) / hist2.sum())\n",
      "/Users/gyoung19/Library/CloudStorage/OneDrive-KennesawStateUniversity/Python/Erdos/Health_Edu_Project/feature_selection_helpers.py:35: RuntimeWarning: invalid value encountered in divide\n",
      "  return (hist1.astype(np.float32) / hist1.sum(), hist2.astype(np.float32) / hist2.sum())\n",
      "/Users/gyoung19/Library/CloudStorage/OneDrive-KennesawStateUniversity/Python/Erdos/Health_Edu_Project/feature_selection_helpers.py:35: RuntimeWarning: invalid value encountered in divide\n",
      "  return (hist1.astype(np.float32) / hist1.sum(), hist2.astype(np.float32) / hist2.sum())\n",
      "/Users/gyoung19/Library/CloudStorage/OneDrive-KennesawStateUniversity/Python/Erdos/Health_Edu_Project/feature_selection_helpers.py:35: RuntimeWarning: invalid value encountered in divide\n",
      "  return (hist1.astype(np.float32) / hist1.sum(), hist2.astype(np.float32) / hist2.sum())\n",
      "/Users/gyoung19/Library/CloudStorage/OneDrive-KennesawStateUniversity/Python/Erdos/Health_Edu_Project/feature_selection_helpers.py:35: RuntimeWarning: invalid value encountered in divide\n",
      "  return (hist1.astype(np.float32) / hist1.sum(), hist2.astype(np.float32) / hist2.sum())\n",
      "/Users/gyoung19/Library/CloudStorage/OneDrive-KennesawStateUniversity/Python/Erdos/Health_Edu_Project/feature_selection_helpers.py:35: RuntimeWarning: invalid value encountered in divide\n",
      "  return (hist1.astype(np.float32) / hist1.sum(), hist2.astype(np.float32) / hist2.sum())\n",
      "/Users/gyoung19/Library/CloudStorage/OneDrive-KennesawStateUniversity/Python/Erdos/Health_Edu_Project/feature_selection_helpers.py:35: RuntimeWarning: invalid value encountered in divide\n",
      "  return (hist1.astype(np.float32) / hist1.sum(), hist2.astype(np.float32) / hist2.sum())\n",
      "/Users/gyoung19/Library/CloudStorage/OneDrive-KennesawStateUniversity/Python/Erdos/Health_Edu_Project/feature_selection_helpers.py:35: RuntimeWarning: invalid value encountered in divide\n",
      "  return (hist1.astype(np.float32) / hist1.sum(), hist2.astype(np.float32) / hist2.sum())\n",
      "/Users/gyoung19/Library/CloudStorage/OneDrive-KennesawStateUniversity/Python/Erdos/Health_Edu_Project/feature_selection_helpers.py:35: RuntimeWarning: invalid value encountered in divide\n",
      "  return (hist1.astype(np.float32) / hist1.sum(), hist2.astype(np.float32) / hist2.sum())\n",
      "/Users/gyoung19/Library/CloudStorage/OneDrive-KennesawStateUniversity/Python/Erdos/Health_Edu_Project/feature_selection_helpers.py:35: RuntimeWarning: invalid value encountered in divide\n",
      "  return (hist1.astype(np.float32) / hist1.sum(), hist2.astype(np.float32) / hist2.sum())\n",
      "/Users/gyoung19/Library/CloudStorage/OneDrive-KennesawStateUniversity/Python/Erdos/Health_Edu_Project/feature_selection_helpers.py:35: RuntimeWarning: invalid value encountered in divide\n",
      "  return (hist1.astype(np.float32) / hist1.sum(), hist2.astype(np.float32) / hist2.sum())\n"
     ]
    }
   ],
   "source": [
    "# Use feature selection helpers to make series containing the correlation and histogram-overlap scores\n",
    "corr_series = fsh.make_corr_series(df)\n",
    "hist_series = fsh.make_overlap_series(df)"
   ]
  },
  {
   "cell_type": "code",
   "execution_count": 4,
   "metadata": {},
   "outputs": [],
   "source": [
    "#Define some thresholds defining which features to keep based on metric\n",
    "corr_thresh = 0.15\n",
    "hist_thresh = 0.8\n",
    "\n",
    "#Refine the series with only the elements that meet the above thresholds\n",
    "corr_series_keep = corr_series[corr_series > corr_thresh]\n",
    "hist_series_keep = hist_series[hist_series < hist_thresh]"
   ]
  },
  {
   "cell_type": "code",
   "execution_count": 5,
   "metadata": {},
   "outputs": [],
   "source": [
    "# Define sets containing the features to keep according to the series returned above\n",
    "corr_keep_features = set(corr_series_keep.index)\n",
    "hist_keep_features = set(hist_series_keep.index)\n",
    "#Define their union\n",
    "union_features = corr_keep_features.union(hist_keep_features)"
   ]
  },
  {
   "cell_type": "code",
   "execution_count": 6,
   "metadata": {},
   "outputs": [
    {
     "name": "stdout",
     "output_type": "stream",
     "text": [
      "There are 34 features in corr_keep_features and 36 features in hist_keep_features.\n",
      "There are 18 features in corr_keep_features that are not in hist_keep_features.\n",
      "There are 20 features in hist_keep_features that are not in corr_keep_features.\n",
      "Their intersection contains 16 features and their union contains 54 features.\n"
     ]
    }
   ],
   "source": [
    "#Some info about the features\n",
    "print('There are ' + str(len(corr_keep_features)) + ' features in corr_keep_features and ' + str(len(hist_keep_features)) + ' features in hist_keep_features.')\n",
    "print('There are ' + str(len(corr_keep_features.difference(hist_keep_features))) + ' features in corr_keep_features that are not in hist_keep_features.')\n",
    "print('There are ' + str(len(hist_keep_features.difference(corr_keep_features))) + ' features in hist_keep_features that are not in corr_keep_features.')\n",
    "print('Their intersection contains ' + str(len(hist_keep_features.intersection(corr_keep_features))) + ' features and their union contains ' +\n",
    "       str(len(hist_keep_features.union(corr_keep_features))) + ' features.')"
   ]
  },
  {
   "cell_type": "code",
   "execution_count": 7,
   "metadata": {},
   "outputs": [],
   "source": [
    "# Read in NSCH dctionary of feature we already plan to use\n",
    "NSCH_dict = pd.read_csv('data/NSCH_dictionary.csv')"
   ]
  },
  {
   "cell_type": "code",
   "execution_count": 8,
   "metadata": {},
   "outputs": [],
   "source": [
    "# Set of handpicked features\n",
    "handpicked_features = set(NSCH_dict['col_name_2019'].values)"
   ]
  },
  {
   "cell_type": "code",
   "execution_count": 9,
   "metadata": {},
   "outputs": [
    {
     "name": "stdout",
     "output_type": "stream",
     "text": [
      "There are 54 features in union_features and 53 features in handpicked_features.\n",
      "Their intersection contains 14 features and their union contains 93 features.\n",
      "Including the features found using the correlation and histogram analysis will add 40 features to our model.\n"
     ]
    }
   ],
   "source": [
    "#Some info about the features\n",
    "print('There are ' + str(len(union_features)) + ' features in union_features and ' + str(len(handpicked_features)) + ' features in handpicked_features.')\n",
    "print('Their intersection contains ' + str(len(union_features.intersection(handpicked_features))) + ' features and their union contains ' +\n",
    "       str(len(union_features.union(handpicked_features))) + ' features.')\n",
    "print('Including the features found using the correlation and histogram analysis will add ' + str(len(union_features.difference(handpicked_features)))\n",
    "       + ' features to our model.')"
   ]
  },
  {
   "cell_type": "code",
   "execution_count": 10,
   "metadata": {},
   "outputs": [],
   "source": [
    "# Get the features that were identified by the correlation/historgram analysis that we did not include in our handpicked variables\n",
    "new_features = list(union_features.difference(handpicked_features))"
   ]
  },
  {
   "cell_type": "code",
   "execution_count": 11,
   "metadata": {},
   "outputs": [
    {
     "name": "stdout",
     "output_type": "stream",
     "text": [
      "<class 'pandas.core.frame.DataFrame'>\n",
      "RangeIndex: 29433 entries, 0 to 29432\n",
      "Data columns (total 40 columns):\n",
      " #   Column          Non-Null Count  Dtype  \n",
      "---  ------          --------------  -----  \n",
      " 0   FWC             29433 non-null  float64\n",
      " 1   ARTHRITIS_DESC  81 non-null     float64\n",
      " 2   K2Q46C          170 non-null    float64\n",
      " 3   SC_K2Q22        29396 non-null  float64\n",
      " 4   DOWNSYN_DESC    43 non-null     float64\n",
      " 5   K5Q10           29297 non-null  float64\n",
      " 6   SESPLANMO       418 non-null    float64\n",
      " 7   K7Q84_R         20976 non-null  float64\n",
      " 8   TOTCSHCN        29433 non-null  float64\n",
      " 9   SC_K2Q13        29394 non-null  float64\n",
      " 10  K2Q33C          2926 non-null   float64\n",
      " 11  ARTHRITIS_CURR  125 non-null    float64\n",
      " 12  HEADACHE_DESC   960 non-null    float64\n",
      " 13  K7Q04R_R        21021 non-null  float64\n",
      " 14  LIVEUSA_MO      53 non-null     float64\n",
      " 15  K2Q32C          1251 non-null   float64\n",
      " 16  DECISIONS       25955 non-null  float64\n",
      " 17  K7Q85_R         21077 non-null  float64\n",
      " 18  K2Q60C          281 non-null    float64\n",
      " 19  MENBEVCOV       27944 non-null  float64\n",
      " 20  K2Q42C          189 non-null    float64\n",
      " 21  SUBABUSE_DESC   40 non-null     float64\n",
      " 22  HCEXTENT        4606 non-null   float64\n",
      " 23  MAKEFRIEND      25599 non-null  float64\n",
      " 24  BULLIED_R       21061 non-null  float64\n",
      " 25  K2Q33A          29347 non-null  float64\n",
      " 26  HEART_DESC      414 non-null    float64\n",
      " 27  A1_LIVEUSA      3642 non-null   float64\n",
      " 28  CERPALS_DESC    81 non-null     float64\n",
      " 29  SUBABUSE_CURR   55 non-null     float64\n",
      " 30  TOTNONSHCN      29433 non-null  float64\n",
      " 31  K2Q38B          92 non-null     float64\n",
      " 32  BLOOD_SCREEN    149 non-null    float64\n",
      " 33  K2Q42B          327 non-null    float64\n",
      " 34  K2Q37C          1513 non-null   float64\n",
      " 35  SC_CSHCN        29433 non-null  float64\n",
      " 36  BLOOD_DESC      148 non-null    float64\n",
      " 37  K2Q36C          1525 non-null   float64\n",
      " 38  PHYSICALPAIN    29316 non-null  float64\n",
      " 39  K8Q31           29053 non-null  float64\n",
      "dtypes: float64(40)\n",
      "memory usage: 9.0 MB\n"
     ]
    }
   ],
   "source": [
    "# Look at a dataframe only including these new features\n",
    "df_new = df[new_features]\n",
    "df_new.info()"
   ]
  },
  {
   "cell_type": "code",
   "execution_count": 12,
   "metadata": {},
   "outputs": [
    {
     "name": "stdout",
     "output_type": "stream",
     "text": [
      "<class 'pandas.core.frame.DataFrame'>\n",
      "RangeIndex: 29433 entries, 0 to 29432\n",
      "Data columns (total 17 columns):\n",
      " #   Column        Non-Null Count  Dtype  \n",
      "---  ------        --------------  -----  \n",
      " 0   FWC           29433 non-null  float64\n",
      " 1   SC_K2Q22      29396 non-null  float64\n",
      " 2   K5Q10         29297 non-null  float64\n",
      " 3   K7Q84_R       20976 non-null  float64\n",
      " 4   TOTCSHCN      29433 non-null  float64\n",
      " 5   SC_K2Q13      29394 non-null  float64\n",
      " 6   K7Q04R_R      21021 non-null  float64\n",
      " 7   DECISIONS     25955 non-null  float64\n",
      " 8   K7Q85_R       21077 non-null  float64\n",
      " 9   MENBEVCOV     27944 non-null  float64\n",
      " 10  MAKEFRIEND    25599 non-null  float64\n",
      " 11  BULLIED_R     21061 non-null  float64\n",
      " 12  K2Q33A        29347 non-null  float64\n",
      " 13  TOTNONSHCN    29433 non-null  float64\n",
      " 14  SC_CSHCN      29433 non-null  float64\n",
      " 15  PHYSICALPAIN  29316 non-null  float64\n",
      " 16  K8Q31         29053 non-null  float64\n",
      "dtypes: float64(17)\n",
      "memory usage: 3.8 MB\n"
     ]
    }
   ],
   "source": [
    "#Many of the features are missing >90% of their data. Let's get rid of columns with sufficiently high proportions of null\n",
    "df_trimmed = df_new.loc[:, df_new.isnull().mean() < .5]\n",
    "df_trimmed.info()"
   ]
  },
  {
   "cell_type": "code",
   "execution_count": 20,
   "metadata": {},
   "outputs": [
    {
     "data": {
      "text/plain": [
       "['FWC',\n",
       " 'SC_K2Q22',\n",
       " 'K5Q10',\n",
       " 'K7Q84_R',\n",
       " 'TOTCSHCN',\n",
       " 'SC_K2Q13',\n",
       " 'K7Q04R_R',\n",
       " 'DECISIONS',\n",
       " 'K7Q85_R',\n",
       " 'MENBEVCOV',\n",
       " 'MAKEFRIEND',\n",
       " 'BULLIED_R',\n",
       " 'K2Q33A',\n",
       " 'TOTNONSHCN',\n",
       " 'SC_CSHCN',\n",
       " 'PHYSICALPAIN',\n",
       " 'K8Q31']"
      ]
     },
     "execution_count": 20,
     "metadata": {},
     "output_type": "execute_result"
    }
   ],
   "source": [
    "# Here are the new features we should consider adding to our model\n",
    "new_features_trimmed = list(df_trimmed.columns)\n",
    "new_features_trimmed"
   ]
  },
  {
   "cell_type": "code",
   "execution_count": 18,
   "metadata": {},
   "outputs": [],
   "source": [
    "# We can certainly get rid of FWC, which is a statistical weight\n",
    "new_features_trimmed.remove('FWC')"
   ]
  },
  {
   "cell_type": "code",
   "execution_count": 19,
   "metadata": {},
   "outputs": [
    {
     "data": {
      "text/plain": [
       "['SC_K2Q22',\n",
       " 'K5Q10',\n",
       " 'K7Q84_R',\n",
       " 'TOTCSHCN',\n",
       " 'SC_K2Q13',\n",
       " 'K7Q04R_R',\n",
       " 'DECISIONS',\n",
       " 'K7Q85_R',\n",
       " 'MENBEVCOV',\n",
       " 'MAKEFRIEND',\n",
       " 'BULLIED_R',\n",
       " 'K2Q33A',\n",
       " 'TOTNONSHCN',\n",
       " 'SC_CSHCN',\n",
       " 'PHYSICALPAIN',\n",
       " 'K8Q31']"
      ]
     },
     "execution_count": 19,
     "metadata": {},
     "output_type": "execute_result"
    }
   ],
   "source": [
    "# Need to look into the codebook to see what these correspond to\n",
    "new_features_trimmed"
   ]
  },
  {
   "cell_type": "code",
   "execution_count": null,
   "metadata": {},
   "outputs": [],
   "source": []
  }
 ],
 "metadata": {
  "kernelspec": {
   "display_name": "erdos_may_2024",
   "language": "python",
   "name": "python3"
  },
  "language_info": {
   "codemirror_mode": {
    "name": "ipython",
    "version": 3
   },
   "file_extension": ".py",
   "mimetype": "text/x-python",
   "name": "python",
   "nbconvert_exporter": "python",
   "pygments_lexer": "ipython3",
   "version": "3.11.9"
  }
 },
 "nbformat": 4,
 "nbformat_minor": 2
}
